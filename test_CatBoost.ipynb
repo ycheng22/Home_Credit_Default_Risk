{
 "cells": [
  {
   "cell_type": "markdown",
   "id": "cacd1455-ec8c-4883-a583-58d968fa679c",
   "metadata": {},
   "source": [
    "# Training CatBoostClassifier Model on Processed Data with CPU, GPU"
   ]
  },
  {
   "cell_type": "code",
   "execution_count": 1,
   "id": "2b56d6a8-b50f-4745-a2f3-bb3831d510df",
   "metadata": {
    "execution": {
     "iopub.execute_input": "2021-12-23T04:14:45.590464Z",
     "iopub.status.busy": "2021-12-23T04:14:45.589463Z",
     "iopub.status.idle": "2021-12-23T04:14:47.164395Z",
     "shell.execute_reply": "2021-12-23T04:14:47.163398Z",
     "shell.execute_reply.started": "2021-12-23T04:14:45.590464Z"
    },
    "tags": []
   },
   "outputs": [
    {
     "data": {
      "text/html": [
       "<style>.container { width: 100% !important; }</style>"
      ],
      "text/plain": [
       "<IPython.core.display.HTML object>"
      ]
     },
     "metadata": {},
     "output_type": "display_data"
    }
   ],
   "source": [
    "#import usefull DataStructures\n",
    "import pandas as pd \n",
    "import numpy as np\n",
    "from scipy.stats import uniform\n",
    "\n",
    "#import plotting libraries\n",
    "import matplotlib.pyplot as plt\n",
    "import seaborn as sns\n",
    "from prettytable import PrettyTable\n",
    "\n",
    "#import Misc Libraries\n",
    "import os\n",
    "import gc\n",
    "import pickle\n",
    "import warnings\n",
    "warnings.filterwarnings('ignore')\n",
    "from datetime import datetime\n",
    "\n",
    "#for 100% jupyter notebook cell width\n",
    "from IPython.core.display import display, HTML\n",
    "display(HTML(\"<style>.container { width: 100% !important; }</style>\"))\n",
    "\n",
    "#sklearn\n",
    "from sklearn.model_selection import train_test_split\n",
    "from sklearn.preprocessing import StandardScaler\n",
    "from sklearn.model_selection import train_test_split\n",
    "from sklearn.model_selection import StratifiedKFold\n",
    "from sklearn.model_selection import RandomizedSearchCV\n",
    "from sklearn.metrics import roc_auc_score\n",
    "from sklearn.metrics import precision_score\n",
    "from sklearn.metrics import recall_score\n",
    "from sklearn.metrics import roc_curve\n",
    "from sklearn.metrics import confusion_matrix\n",
    "from sklearn.neighbors import KNeighborsClassifier\n",
    "from sklearn.linear_model import SGDClassifier\n",
    "from sklearn.ensemble import RandomForestClassifier\n",
    "from sklearn.ensemble import ExtraTreesClassifier\n",
    "from sklearn.calibration import CalibratedClassifierCV\n",
    "\n",
    "#other modelling libraries\n",
    "from bayes_opt import BayesianOptimization #https://github.com/fmfn/BayesianOptimization, https://machinelearningmastery.com/what-is-bayesian-optimization/\n",
    "import xgboost as xgb\n",
    "from xgboost import XGBClassifier\n",
    "from xgboost import XGBRegressor\n",
    "\n",
    "import lightgbm as lgb\n",
    "from lightgbm import LGBMClassifier\n",
    "from lightgbm import LGBMRegressor\n",
    "from catboost import CatBoostClassifier"
   ]
  },
  {
   "cell_type": "code",
   "execution_count": 2,
   "id": "c5a9527f-7cd9-4c50-9f0f-323fd840d519",
   "metadata": {
    "execution": {
     "iopub.execute_input": "2021-12-23T04:14:47.179518Z",
     "iopub.status.busy": "2021-12-23T04:14:47.179518Z",
     "iopub.status.idle": "2021-12-23T04:14:47.585870Z",
     "shell.execute_reply": "2021-12-23T04:14:47.585870Z",
     "shell.execute_reply.started": "2021-12-23T04:14:47.179518Z"
    },
    "tags": []
   },
   "outputs": [],
   "source": [
    "#loading saved processed data from part 2\n",
    "train_data = pickle.load( open( \"./data/pre_modelling_train.pkl\", \"rb\" ) )\n",
    "test_data = pickle.load( open( \"./data/pre_modelling_test.pkl\", \"rb\" ) )\n",
    "target_train = pickle.load( open( \"./data/pre_modelling_target_train.pkl\", \"rb\" ) )\n",
    "skid_test = pickle.load( open( \"./data/pre_modelling_skid_test.pkl\", \"rb\" ) )"
   ]
  },
  {
   "cell_type": "code",
   "execution_count": 3,
   "id": "9d036f67-1037-401f-98c4-0c191f37009e",
   "metadata": {
    "execution": {
     "iopub.execute_input": "2021-12-23T04:14:48.848703Z",
     "iopub.status.busy": "2021-12-23T04:14:48.848703Z",
     "iopub.status.idle": "2021-12-23T04:15:04.402527Z",
     "shell.execute_reply": "2021-12-23T04:15:04.402527Z",
     "shell.execute_reply.started": "2021-12-23T04:14:48.848703Z"
    },
    "tags": []
   },
   "outputs": [],
   "source": [
    "#standardizing the data\n",
    "scaler = StandardScaler()\n",
    "x_train_std = scaler.fit_transform(train_data)\n",
    "x_test_std = scaler.fit_transform(test_data)\n",
    "y_train = target_train\n",
    "\n",
    "#replacing nan values with 0\n",
    "x_train_std[np.isnan(x_train_std)] = 0\n",
    "x_test_std[np.isnan(x_test_std)] = 0"
   ]
  },
  {
   "cell_type": "code",
   "execution_count": 45,
   "id": "830790eb-155c-4abb-80c0-88803312529a",
   "metadata": {
    "execution": {
     "iopub.execute_input": "2021-12-22T22:48:46.602006Z",
     "iopub.status.busy": "2021-12-22T22:48:46.602006Z",
     "iopub.status.idle": "2021-12-22T22:48:46.631008Z",
     "shell.execute_reply": "2021-12-22T22:48:46.630006Z",
     "shell.execute_reply.started": "2021-12-22T22:48:46.602006Z"
    },
    "tags": []
   },
   "outputs": [],
   "source": [
    "class cat_boosting:\n",
    "    '''\n",
    "    Class for Boosting Ensembles and displaying results. Contains 6 methods:\n",
    "    \n",
    "        1. init method\n",
    "        2. train method\n",
    "        3. proba_to_class method\n",
    "        4. tune_threshold method\n",
    "        5. results method\n",
    "        6. feat_importance_show\n",
    "    '''\n",
    "\n",
    "    def __init__(self, x_train, y_train, x_test, params, num_folds = 3, random_state = 33, \n",
    "                 verbose = True, save_model_to_pickle = False):\n",
    "        '''\n",
    "        Function to initialize the class members.\n",
    "        \n",
    "        Inputs:\n",
    "            self\n",
    "            x_train: DataFrame\n",
    "                Training DataFrame\n",
    "            y_train: DataFrame\n",
    "                Training Class labels\n",
    "            x_test: DataFrame\n",
    "                Test DataFrame\n",
    "            params: dict\n",
    "                Parameters for the boosting ensemble\n",
    "            num_folds: int, default = 3\n",
    "                Number of folds for k-Fold Cross Validation\n",
    "            random_state: int, default = 33\n",
    "                Random State for Splitting the data for K-Fold Cross Validation\n",
    "            verbose: bool, default = True\n",
    "                Whether to keep verbosity or not\n",
    "            save_model_to_pickle: bool, default = False\n",
    "                Whether to save the model to pickle file or not\n",
    "        \n",
    "        Returns:\n",
    "            None\n",
    "        '''\n",
    "\n",
    "        self.x_train = x_train\n",
    "        self.y_train = y_train\n",
    "        self.x_test = x_test\n",
    "        self.params = params\n",
    "        self.num_folds = num_folds\n",
    "        self.stratified_cv = StratifiedKFold(n_splits = num_folds, shuffle = True, random_state = random_state)\n",
    "        self.verbose = verbose\n",
    "        self.save_model = save_model_to_pickle\n",
    "        \n",
    "    def train(self, booster, verbose = 400, early_stopping = 200, pickle_name = '', plot_flag = False):\n",
    "        '''\n",
    "        Function to train the Classifier on given parameters. It fits the classifier for each fold, and for \n",
    "        Cross Validation, uses Out-of-Fold Predictions. The test predictions are averaged predictions over each fold.\n",
    "        \n",
    "        Inputs:\n",
    "            self\n",
    "            booster: str\n",
    "                Whether the booster is 'xgboost' or 'lightgbm' or 'catboost'\n",
    "            verbose: int, default = 400\n",
    "                Number of boosting rounds for printint boosting results.\n",
    "            early_stopping: int, default = 200\n",
    "                Number of boosting rounds to look for early stopping\n",
    "            pickle_name: str, default = ''\n",
    "                The string to add to end of pickle file of model, if any\n",
    "        \n",
    "        Returns:\n",
    "            None        \n",
    "        '''\n",
    "        \n",
    "        self.train_preds_proba_mean = np.zeros(self.x_train.shape[0])\n",
    "        #out-of-fold cv predictions\n",
    "        self.cv_preds_proba = np.zeros(self.x_train.shape[0])\n",
    "        self.test_preds_proba_mean = np.zeros(self.x_test.shape[0])\n",
    "        #best threshold will be \n",
    "        self.best_threshold_train = 0\n",
    "        self.feature_importance = pd.DataFrame()\n",
    "        self.feature_importance['features'] = self.x_train.columns\n",
    "        self.feature_importance['gain'] = np.zeros(self.x_train.shape[1])\n",
    "        \n",
    "        if self.verbose:\n",
    "            print(f\"Fitting the {booster} on Training Data with {self.num_folds} fold cross validation, and using Out-Of-Folds Predictions for Cross-Validation\")\n",
    "            start = datetime.now()\n",
    "        \n",
    "        for fold_number, (train_indices, cv_indices) in enumerate(self.stratified_cv.split(self.x_train, self.y_train), 1):\n",
    "            if self.verbose:\n",
    "                print(f\"\\n\\tFold Number {fold_number}\\n\")\n",
    "            \n",
    "            x_tr = self.x_train.iloc[train_indices]\n",
    "            y_tr = self.y_train.iloc[train_indices]\n",
    "            x_cv = self.x_train.iloc[cv_indices]\n",
    "            y_cv = self.y_train.iloc[cv_indices]\n",
    "            \n",
    "            if booster == 'xgboost':\n",
    "                clf = XGBClassifier(**self.params)\n",
    "            elif booster == 'lightgbm':\n",
    "                clf = LGBMClassifier(**self.params)\n",
    "            else: #catboost\n",
    "                clf = CatBoostClassifier(**self.params)\n",
    "                    \n",
    "                \n",
    "            clf.fit(x_tr, y_tr, eval_set = [(x_tr, y_tr), (x_cv, y_cv)], \n",
    "                     verbose = verbose, early_stopping_rounds = 200, plot = plot_flag)\n",
    "            \n",
    "            if booster == 'xgboost':\n",
    "                self.train_preds_proba_mean[train_indices] = clf.predict_proba(x_tr, ntree_limit = clf.get_booster().best_ntree_limit)[:, 1] / (self.num_folds - 1)\n",
    "                self.cv_preds_proba[cv_indices] = clf.predict_proba(x_cv, ntree_limit = clf.get_booster().best_ntree_limit)[:,1]\n",
    "                self.test_preds_proba_mean += clf.predict_proba(self.x_test, ntree_limit = clf.get_booster().best_ntree_limit)[:,1] / self.num_folds\n",
    "\n",
    "                #feature importance\n",
    "                gain_fold = clf.get_booster().get_score(importance_type = 'gain')\n",
    "                feat_imp = pd.DataFrame()\n",
    "                feat_imp['features'] = gain_fold.keys()\n",
    "                feat_imp['gain'] = gain_fold.values()\n",
    "            \n",
    "            elif booster == 'lightgbm': #lightgbm\n",
    "                self.train_preds_proba_mean[train_indices] = clf.predict_proba(x_tr, num_iteration = clf.best_iteration_)[:,1] / (self.num_folds - 1)\n",
    "                self.cv_preds_proba[cv_indices] = clf.predict_proba(x_cv, num_iteration = clf.best_iteration_)[:,1]\n",
    "                self.test_preds_proba_mean += clf.predict_proba(self.x_test, num_iteration = clf.best_iteration_)[:,1] / self.num_folds\n",
    "\n",
    "                #feature importance\n",
    "                gain_fold = clf.booster_.feature_importance(importance_type='gain')\n",
    "                feat_imp = pd.DataFrame()\n",
    "                feat_imp['features'] = self.x_train.columns\n",
    "                feat_imp['gain'] = gain_fold\n",
    "            else: #catboost\n",
    "                # self.train_preds_proba_mean[train_indices] = clf.predict_proba(x_tr, \n",
    "                #                                                                ntree_start = clf.best_iteration_, \n",
    "                #                                                                ntree_end = clf.best_iteration_ + 1)[:,1] / (self.num_folds - 1)\n",
    "                # self.cv_preds_proba[cv_indices] = clf.predict_proba(x_cv, ntree_start = clf.best_iteration_, \n",
    "                #                                                                ntree_end = clf.best_iteration_ + 1)[:,1]\n",
    "                # self.test_preds_proba_mean += clf.predict_proba(self.x_test, ntree_start = clf.best_iteration_, \n",
    "                #                                                                ntree_end = clf.best_iteration_ + 1)[:,1] / self.num_folds\n",
    "                self.train_preds_proba_mean[train_indices] = clf.predict_proba(x_tr)[:,1] / (self.num_folds - 1)\n",
    "                self.cv_preds_proba[cv_indices] = clf.predict_proba(x_cv)[:,1]\n",
    "                self.test_preds_proba_mean += clf.predict_proba(self.x_test)[:,1] / self.num_folds\n",
    "                #feature importance\n",
    "                gain_fold = clf.feature_importances_\n",
    "                feat_imp = pd.DataFrame()\n",
    "                feat_imp['features'] = self.x_train.columns\n",
    "                feat_imp['gain'] = gain_fold\n",
    "                \n",
    "                \n",
    "            #tuning the threshold for optimal TPR and FPR from ROC Curve\n",
    "            self.best_threshold_train += self.tune_threshold(self.y_train[train_indices], self.train_preds_proba_mean[train_indices]) / self.num_folds\n",
    "            #concatenating the feature importance of each fold to original df\n",
    "            self.feature_importance = pd.concat([self.feature_importance, feat_imp], axis = 0)\n",
    "\n",
    "            if self.save_model:\n",
    "                #saving the model into a pickle file\n",
    "                with open(f'./data/clf_{booster}_fold_{fold_number}_model_{pickle_name}.pkl', 'wb') as f:\n",
    "                    pickle.dump(clf, f)\n",
    "          \n",
    "        #mean feature importance averaged over all folds\n",
    "        self.feature_importance = self.feature_importance.groupby('features', as_index = False).mean()\n",
    "        #sorting the feature importance\n",
    "        self.feature_importance = self.feature_importance.sort_values(by = 'gain', ascending = False)\n",
    "        \n",
    "        if self.verbose:\n",
    "            print(\"Done.\")\n",
    "            print(f\"Time elapsed = {datetime.now() - start}\")\n",
    "        gc.collect()\n",
    "        \n",
    "    def proba_to_class(self, proba, threshold):\n",
    "        '''\n",
    "        Function to convert a given probability to class label based on a threshold value.\n",
    "        \n",
    "        Inputs:\n",
    "            self\n",
    "            proba: numpy array\n",
    "                Probabilities of class label = 1\n",
    "            threshold: int\n",
    "                Threshold probability to be considered as Positive or Negative Class Label\n",
    "            \n",
    "        Returns:\n",
    "            Converted Class Label\n",
    "        '''\n",
    "\n",
    "        return np.where(proba >= threshold, 1, 0)\n",
    "        \n",
    "    def tune_threshold(self, true_labels, predicted_probas):\n",
    "        '''\n",
    "        Function to find the optimal threshold for maximizing the TPR and minimizing the FPR from ROC-AUC Curve.\n",
    "        This is found out by using the J Statistic, which is J = TPR - FPR.\n",
    "        Reference: https://machinelearningmastery.com/threshold-moving-for-imbalanced-classification/\n",
    "        \n",
    "        Inputs:\n",
    "            self\n",
    "            true_labels: numpy array or pandas series\n",
    "                True Class Labels\n",
    "            predicted_probas: numpy array\n",
    "                Predicted Probability of Positive Class label\n",
    "            \n",
    "        Returns:\n",
    "            Threshold probability.\n",
    "        '''\n",
    "\n",
    "        fpr, tpr, threshold = roc_curve(true_labels, predicted_probas)\n",
    "        j_stat = tpr - fpr\n",
    "        index_for_best_threshold = np.argmax(j_stat)\n",
    "        \n",
    "        return threshold[index_for_best_threshold]\n",
    "           \n",
    "    def results(self, roc_auc = True, precision_recall = True, show_conf_matrix = True, cv_test_distribution = False):\n",
    "        '''\n",
    "        Function to display the final results of Train, CV and Test Dataset.\n",
    "        \n",
    "        Inputs:\n",
    "            self\n",
    "        \n",
    "        Returns:\n",
    "            None\n",
    "        '''\n",
    "        \n",
    "        #getting the crisp class labels\n",
    "        self.train_preds_class = self.proba_to_class(self.train_preds_proba_mean, self.best_threshold_train)\n",
    "        self.cv_preds_class = self.proba_to_class(self.cv_preds_proba, self.best_threshold_train)\n",
    "        self.test_preds_class = self.proba_to_class(self.test_preds_proba_mean, self.best_threshold_train)\n",
    "        print(\"=\" * 100)\n",
    "        print(\"Train Results:\")\n",
    "        print(f\"\\nThe best selected Threshold as per the J-Statistic, which is J = TPR - FPR, is = {self.best_threshold_train}\\n\")\n",
    "        if roc_auc:\n",
    "            print(f\"\\tROC-AUC Score = {roc_auc_score(self.y_train, self.train_preds_proba_mean)}\")\n",
    "        if precision_recall:\n",
    "            print(f\"\\tPrecision Score = {precision_score(self.y_train, self.train_preds_class)}\")\n",
    "            print(f\"\\tRecall Score = {recall_score(self.y_train, self.train_preds_class)}\")\n",
    "        print(\"CV Results:\")\n",
    "        if roc_auc:\n",
    "            print(f\"\\tROC-AUC Score = {roc_auc_score(self.y_train, self.cv_preds_proba)}\")\n",
    "        if precision_recall:\n",
    "            print(f\"\\tPrecision Score = {precision_score(self.y_train, self.cv_preds_class)}\")\n",
    "            print(f\"\\tRecall Score = {recall_score(self.y_train, self.cv_preds_class)}\")\n",
    "\n",
    "        if show_conf_matrix:\n",
    "            print('=' * 100)\n",
    "            print(\"Confusion, Precision and Recall Matrix on CV data:\")\n",
    "            conf_mat = confusion_matrix(self.y_train, self.cv_preds_class)\n",
    "            conf_mat = pd.DataFrame(conf_mat, columns = ['Predicted_0','Predicted_1'], index = ['Actual_0','Actual_1'])\n",
    "            plt.figure(figsize = (7,6))\n",
    "            plt.title('Confusion Matrix Heatmap')\n",
    "            sns.heatmap(conf_mat, annot = True, fmt = 'g', linewidth = 0.5, annot_kws = {'size' : 15})\n",
    "            plt.show()\n",
    "        \n",
    "        if cv_test_distribution:\n",
    "            print('=' * 100)\n",
    "            print(\"Distribution of Original Class Labels and Predicted CV and Test Class Labels\")\n",
    "            plt.figure(figsize = (20,6))\n",
    "            plt.subplot(1,3,1)\n",
    "            plt.title('Class Distribution of Original Dataset')\n",
    "            sns.countplot(self.y_train)\n",
    "            plt.subplot(1,3,2)\n",
    "            plt.title('Class Distribution of predicted Class Labels on CV')\n",
    "            sns.countplot(self.cv_preds_class)\n",
    "            plt.subplot(1,3,3)\n",
    "            plt.title('Class Distribution of predicted Test Dataset')\n",
    "            sns.countplot(self.test_preds_class)\n",
    "            plt.show()\n",
    "        print('=' * 100)\n",
    "        \n",
    "        gc.collect()\n",
    "    \n",
    "    def feat_importances_show(self, num_features, figsize = (10,15)):\n",
    "        '''\n",
    "        Function to display the top most important features.\n",
    "        \n",
    "        Inputs:\n",
    "            self\n",
    "            num_features: int\n",
    "                Number of top features importances to display\n",
    "            figsize: tuple, default = (10,15)\n",
    "                Size of figure to be displayed\n",
    "            \n",
    "        Returns:\n",
    "            None\n",
    "        '''\n",
    "        \n",
    "        plt.figure(figsize = figsize) \n",
    "        sns.barplot(self.feature_importance['gain'].iloc[:num_features], \n",
    "                    self.feature_importance['features'].iloc[:num_features], orient = 'h')\n",
    "        plt.title(f'Top {num_features} features as per classifier')\n",
    "        plt.xlabel('Feature Importance')\n",
    "        plt.ylabel('Feature Names')\n",
    "        plt.grid()\n",
    "        plt.show()\n",
    "        print('=' * 100)\n",
    "        \n",
    "        gc.collect()"
   ]
  },
  {
   "cell_type": "markdown",
   "id": "f367fb11-6f84-4b32-b42e-70eab6ec7d5b",
   "metadata": {},
   "source": [
    "## Test  CPU"
   ]
  },
  {
   "cell_type": "code",
   "execution_count": 31,
   "id": "562785d8-ff17-4613-8f20-1d87131d7b98",
   "metadata": {
    "execution": {
     "iopub.execute_input": "2021-12-22T22:36:29.698975Z",
     "iopub.status.busy": "2021-12-22T22:36:29.698975Z",
     "iopub.status.idle": "2021-12-22T22:36:29.710975Z",
     "shell.execute_reply": "2021-12-22T22:36:29.710975Z",
     "shell.execute_reply.started": "2021-12-22T22:36:29.698975Z"
    },
    "tags": []
   },
   "outputs": [],
   "source": [
    "params = {\n",
    "    'learning_rate' : 0.01,\n",
    "    'eval_metric': 'AUC',\n",
    "    'n_estimators' : 1000,\n",
    "    'max_depth' : 5,\n",
    "    'min_child_samples' : 80,\n",
    "    'colsample_bylevel' : 0.5699318202360774,\n",
    "    'reg_lambda' : 0.03564525547115141,\n",
    "    'random_state' : 42\n",
    "} "
   ]
  },
  {
   "cell_type": "code",
   "execution_count": 32,
   "id": "63270b83-6abb-48b2-b267-fc355eb0bd05",
   "metadata": {
    "execution": {
     "iopub.execute_input": "2021-12-22T22:36:29.906975Z",
     "iopub.status.busy": "2021-12-22T22:36:29.906975Z",
     "iopub.status.idle": "2021-12-22T22:41:41.703977Z",
     "shell.execute_reply": "2021-12-22T22:41:41.702977Z",
     "shell.execute_reply.started": "2021-12-22T22:36:29.906975Z"
    },
    "scrolled": true,
    "tags": []
   },
   "outputs": [
    {
     "data": {
      "application/vnd.jupyter.widget-view+json": {
       "model_id": "2f99eac4c2dc4f52bf2944245e9633a3",
       "version_major": 2,
       "version_minor": 0
      },
      "text/plain": [
       "MetricVisualizer(layout=Layout(align_self='stretch', height='500px'))"
      ]
     },
     "metadata": {},
     "output_type": "display_data"
    },
    {
     "name": "stdout",
     "output_type": "stream",
     "text": [
      "0:\ttest: 0.6940571\ttest1: 0.6882441\tbest: 0.6882441 (0)\ttotal: 204ms\tremaining: 3m 23s\n",
      "50:\ttest: 0.7584303\ttest1: 0.7549618\tbest: 0.7552215 (48)\ttotal: 11s\tremaining: 3m 23s\n",
      "100:\ttest: 0.7663035\ttest1: 0.7621045\tbest: 0.7621177 (98)\ttotal: 21.6s\tremaining: 3m 12s\n",
      "150:\ttest: 0.7714174\ttest1: 0.7672110\tbest: 0.7672110 (150)\ttotal: 32.3s\tremaining: 3m 1s\n",
      "200:\ttest: 0.7759023\ttest1: 0.7718879\tbest: 0.7718879 (200)\ttotal: 42.9s\tremaining: 2m 50s\n",
      "250:\ttest: 0.7790657\ttest1: 0.7752858\tbest: 0.7752858 (250)\ttotal: 54s\tremaining: 2m 41s\n",
      "300:\ttest: 0.7817454\ttest1: 0.7779051\tbest: 0.7779051 (300)\ttotal: 1m 4s\tremaining: 2m 30s\n",
      "350:\ttest: 0.7836677\ttest1: 0.7798549\tbest: 0.7798549 (350)\ttotal: 1m 15s\tremaining: 2m 20s\n",
      "400:\ttest: 0.7857428\ttest1: 0.7818167\tbest: 0.7818167 (400)\ttotal: 1m 26s\tremaining: 2m 9s\n",
      "450:\ttest: 0.7874039\ttest1: 0.7832623\tbest: 0.7832623 (450)\ttotal: 1m 37s\tremaining: 1m 59s\n",
      "500:\ttest: 0.7888124\ttest1: 0.7845510\tbest: 0.7845510 (500)\ttotal: 1m 48s\tremaining: 1m 48s\n",
      "550:\ttest: 0.7901469\ttest1: 0.7856906\tbest: 0.7856906 (550)\ttotal: 1m 59s\tremaining: 1m 37s\n",
      "600:\ttest: 0.7912733\ttest1: 0.7866257\tbest: 0.7866257 (600)\ttotal: 2m 10s\tremaining: 1m 26s\n",
      "650:\ttest: 0.7924491\ttest1: 0.7875334\tbest: 0.7875334 (650)\ttotal: 2m 21s\tremaining: 1m 15s\n",
      "700:\ttest: 0.7934635\ttest1: 0.7883336\tbest: 0.7883336 (700)\ttotal: 2m 32s\tremaining: 1m 5s\n",
      "750:\ttest: 0.7945026\ttest1: 0.7891089\tbest: 0.7891089 (750)\ttotal: 2m 43s\tremaining: 54.1s\n",
      "800:\ttest: 0.7954016\ttest1: 0.7897317\tbest: 0.7897317 (800)\ttotal: 2m 54s\tremaining: 43.2s\n",
      "850:\ttest: 0.7963606\ttest1: 0.7904411\tbest: 0.7904411 (850)\ttotal: 3m 4s\tremaining: 32.4s\n",
      "900:\ttest: 0.7971055\ttest1: 0.7908813\tbest: 0.7908813 (900)\ttotal: 3m 15s\tremaining: 21.5s\n",
      "950:\ttest: 0.7979118\ttest1: 0.7914456\tbest: 0.7914456 (950)\ttotal: 3m 27s\tremaining: 10.7s\n",
      "999:\ttest: 0.7986561\ttest1: 0.7919191\tbest: 0.7919191 (999)\ttotal: 3m 37s\tremaining: 0us\n",
      "\n",
      "bestTest = 0.7919190983\n",
      "bestIteration = 999\n",
      "\n"
     ]
    },
    {
     "data": {
      "text/plain": [
       "<catboost.core.CatBoostClassifier at 0x135ac341e80>"
      ]
     },
     "execution_count": 32,
     "metadata": {},
     "output_type": "execute_result"
    }
   ],
   "source": [
    "    \n",
    "X_train, X_validation, y_train, y_validation = train_test_split(train_data, target_train, train_size=0.8, random_state=42)\n",
    "\n",
    "clf = CatBoostClassifier(**params)\n",
    "\n",
    "clf.fit(X_train, y_train, eval_set=[(X_train, y_train), (X_validation, y_validation)], \n",
    "                 verbose_eval = 50, early_stopping_rounds = 100, plot=True)\n",
    "    "
   ]
  },
  {
   "cell_type": "code",
   "execution_count": 33,
   "id": "07450098-d750-410f-8a3d-f770250e9020",
   "metadata": {
    "execution": {
     "iopub.execute_input": "2021-12-22T22:43:49.142005Z",
     "iopub.status.busy": "2021-12-22T22:43:49.142005Z",
     "iopub.status.idle": "2021-12-22T22:43:49.159005Z",
     "shell.execute_reply": "2021-12-22T22:43:49.159005Z",
     "shell.execute_reply.started": "2021-12-22T22:43:49.142005Z"
    },
    "tags": []
   },
   "outputs": [
    {
     "data": {
      "text/plain": [
       "999"
      ]
     },
     "execution_count": 33,
     "metadata": {},
     "output_type": "execute_result"
    }
   ],
   "source": [
    "clf.best_iteration_"
   ]
  },
  {
   "cell_type": "code",
   "execution_count": 34,
   "id": "a9e732fb-e3fb-4b11-9fb0-ae0cb8841f50",
   "metadata": {
    "execution": {
     "iopub.execute_input": "2021-12-22T22:43:53.683008Z",
     "iopub.status.busy": "2021-12-22T22:43:53.683008Z",
     "iopub.status.idle": "2021-12-22T22:44:03.545004Z",
     "shell.execute_reply": "2021-12-22T22:44:03.545004Z",
     "shell.execute_reply.started": "2021-12-22T22:43:53.683008Z"
    },
    "tags": []
   },
   "outputs": [
    {
     "data": {
      "text/plain": [
       "array([[0.50004502, 0.49995498],\n",
       "       [0.49999731, 0.50000269],\n",
       "       [0.499619  , 0.500381  ],\n",
       "       ...,\n",
       "       [0.49999731, 0.50000269],\n",
       "       [0.50004502, 0.49995498],\n",
       "       [0.49999731, 0.50000269]])"
      ]
     },
     "execution_count": 34,
     "metadata": {},
     "output_type": "execute_result"
    }
   ],
   "source": [
    "clf.predict_proba(X_validation, ntree_start = clf.best_iteration_, ntree_end = clf.best_iteration_ + 1)"
   ]
  },
  {
   "cell_type": "code",
   "execution_count": 40,
   "id": "10040a0c-4797-4134-87a9-0c0bdcd86e3e",
   "metadata": {
    "execution": {
     "iopub.execute_input": "2021-12-22T22:45:38.580014Z",
     "iopub.status.busy": "2021-12-22T22:45:38.580014Z",
     "iopub.status.idle": "2021-12-22T22:45:48.669006Z",
     "shell.execute_reply": "2021-12-22T22:45:48.668006Z",
     "shell.execute_reply.started": "2021-12-22T22:45:38.580014Z"
    },
    "tags": []
   },
   "outputs": [],
   "source": [
    "a = clf.predict_proba(X_validation)"
   ]
  },
  {
   "cell_type": "code",
   "execution_count": 44,
   "id": "91132b83-9b36-4180-8547-b1e712d567fd",
   "metadata": {
    "execution": {
     "iopub.execute_input": "2021-12-22T22:47:49.720008Z",
     "iopub.status.busy": "2021-12-22T22:47:49.719011Z",
     "iopub.status.idle": "2021-12-22T22:47:49.750008Z",
     "shell.execute_reply": "2021-12-22T22:47:49.749004Z",
     "shell.execute_reply.started": "2021-12-22T22:47:49.720008Z"
    },
    "tags": []
   },
   "outputs": [
    {
     "name": "stdout",
     "output_type": "stream",
     "text": [
      "min: 0.010361315036407581\n",
      "max: 0.996864928944795\n",
      "min: 0.0031350710552050074\n",
      "max: 0.9896386849635924\n"
     ]
    }
   ],
   "source": [
    "print(f'min: {min(a[:,0])}')\n",
    "print(f'max: {max(a[:,0])}')\n",
    "print(f'min: {min(a[:,1])}')\n",
    "print(f'max: {max(a[:,1])}')"
   ]
  },
  {
   "cell_type": "code",
   "execution_count": 36,
   "id": "f5fbafa6-ab66-43d3-ad75-6ce53a29c08e",
   "metadata": {
    "execution": {
     "iopub.execute_input": "2021-12-22T22:44:13.251005Z",
     "iopub.status.busy": "2021-12-22T22:44:13.251005Z",
     "iopub.status.idle": "2021-12-22T22:44:13.265007Z",
     "shell.execute_reply": "2021-12-22T22:44:13.265007Z",
     "shell.execute_reply.started": "2021-12-22T22:44:13.251005Z"
    },
    "tags": []
   },
   "outputs": [
    {
     "data": {
      "text/plain": [
       "36.92717332660058"
      ]
     },
     "execution_count": 36,
     "metadata": {},
     "output_type": "execute_result"
    }
   ],
   "source": [
    "clf.get_feature_importance().max()"
   ]
  },
  {
   "cell_type": "code",
   "execution_count": 39,
   "id": "99694d94-6095-4d35-a67c-8e1ecc9029d4",
   "metadata": {
    "execution": {
     "iopub.execute_input": "2021-12-22T22:45:04.472004Z",
     "iopub.status.busy": "2021-12-22T22:45:04.472004Z",
     "iopub.status.idle": "2021-12-22T22:45:04.478004Z",
     "shell.execute_reply": "2021-12-22T22:45:04.478004Z",
     "shell.execute_reply.started": "2021-12-22T22:45:04.472004Z"
    },
    "tags": []
   },
   "outputs": [
    {
     "data": {
      "text/plain": [
       "array([0.        , 0.08483556, 0.00587416, ..., 0.        , 0.        ,\n",
       "       0.        ])"
      ]
     },
     "execution_count": 39,
     "metadata": {},
     "output_type": "execute_result"
    }
   ],
   "source": [
    "clf.feature_importances_"
   ]
  },
  {
   "cell_type": "markdown",
   "id": "bed4f53b-6525-4e22-9e5d-013eb14ba865",
   "metadata": {
    "execution": {
     "iopub.execute_input": "2021-12-22T22:36:17.166978Z",
     "iopub.status.busy": "2021-12-22T22:36:17.166978Z",
     "iopub.status.idle": "2021-12-22T22:36:17.170977Z",
     "shell.execute_reply": "2021-12-22T22:36:17.170977Z",
     "shell.execute_reply.started": "2021-12-22T22:36:17.166978Z"
    }
   },
   "source": [
    "## Boosting method"
   ]
  },
  {
   "cell_type": "code",
   "execution_count": 46,
   "id": "c3b331ce-9172-48e7-aca9-53b97f985ebd",
   "metadata": {
    "execution": {
     "iopub.execute_input": "2021-12-22T22:48:52.000004Z",
     "iopub.status.busy": "2021-12-22T22:48:51.999004Z",
     "iopub.status.idle": "2021-12-22T23:05:39.592005Z",
     "shell.execute_reply": "2021-12-22T23:05:39.592005Z",
     "shell.execute_reply.started": "2021-12-22T22:48:52.000004Z"
    },
    "tags": []
   },
   "outputs": [
    {
     "name": "stdout",
     "output_type": "stream",
     "text": [
      "Fitting the catboost on Training Data with 3 fold cross validation, and using Out-Of-Folds Predictions for Cross-Validation\n",
      "\n",
      "\tFold Number 1\n",
      "\n",
      "0:\ttest: 0.7024532\ttest1: 0.7080920\tbest: 0.7080920 (0)\ttotal: 171ms\tremaining: 2m 51s\n",
      "400:\ttest: 0.7843553\ttest1: 0.7862527\tbest: 0.7862527 (400)\ttotal: 1m 15s\tremaining: 1m 52s\n",
      "800:\ttest: 0.7950115\ttest1: 0.7937132\tbest: 0.7937132 (800)\ttotal: 2m 30s\tremaining: 37.5s\n",
      "999:\ttest: 0.7985316\ttest1: 0.7956759\tbest: 0.7956759 (999)\ttotal: 3m 7s\tremaining: 0us\n",
      "\n",
      "bestTest = 0.7956759314\n",
      "bestIteration = 999\n",
      "\n",
      "\n",
      "\tFold Number 2\n",
      "\n",
      "0:\ttest: 0.6617842\ttest1: 0.6594850\tbest: 0.6594850 (0)\ttotal: 145ms\tremaining: 2m 24s\n",
      "400:\ttest: 0.7854983\ttest1: 0.7809740\tbest: 0.7809740 (400)\ttotal: 1m 13s\tremaining: 1m 50s\n",
      "800:\ttest: 0.7955595\ttest1: 0.7895085\tbest: 0.7895085 (800)\ttotal: 2m 29s\tremaining: 37.1s\n",
      "999:\ttest: 0.7989058\ttest1: 0.7918125\tbest: 0.7918125 (999)\ttotal: 3m 6s\tremaining: 0us\n",
      "\n",
      "bestTest = 0.7918124544\n",
      "bestIteration = 999\n",
      "\n",
      "\n",
      "\tFold Number 3\n",
      "\n",
      "0:\ttest: 0.6545629\ttest1: 0.6550703\tbest: 0.6550703 (0)\ttotal: 161ms\tremaining: 2m 41s\n",
      "400:\ttest: 0.7869335\ttest1: 0.7807095\tbest: 0.7807095 (400)\ttotal: 1m 14s\tremaining: 1m 52s\n",
      "800:\ttest: 0.7971602\ttest1: 0.7883884\tbest: 0.7883884 (800)\ttotal: 2m 29s\tremaining: 37s\n",
      "999:\ttest: 0.8005148\ttest1: 0.7904606\tbest: 0.7904606 (999)\ttotal: 3m 5s\tremaining: 0us\n",
      "\n",
      "bestTest = 0.7904605979\n",
      "bestIteration = 999\n",
      "\n",
      "Done.\n",
      "Time elapsed = 0:16:47.365003\n"
     ]
    }
   ],
   "source": [
    "cb_boosting = cat_boosting(train_data, target_train, test_data, params, random_state = 98, save_model_to_pickle = True)\n",
    "cb_boosting.train(booster = 'catboost')"
   ]
  },
  {
   "cell_type": "code",
   "execution_count": 21,
   "id": "071dd950-3830-442c-9bc6-18e1921dbfb8",
   "metadata": {
    "collapsed": true,
    "execution": {
     "iopub.execute_input": "2021-12-22T21:30:13.054355Z",
     "iopub.status.busy": "2021-12-22T21:30:13.053352Z",
     "iopub.status.idle": "2021-12-22T21:38:04.807351Z",
     "shell.execute_reply": "2021-12-22T21:38:04.805358Z",
     "shell.execute_reply.started": "2021-12-22T21:30:13.054355Z"
    },
    "jupyter": {
     "outputs_hidden": true
    },
    "scrolled": true,
    "tags": []
   },
   "outputs": [
    {
     "name": "stdout",
     "output_type": "stream",
     "text": [
      "Fitting the catboost on Training Data with 3 fold cross validation, and using Out-Of-Folds Predictions for Cross-Validation\n",
      "\n",
      "\tFold Number 1\n",
      "\n"
     ]
    },
    {
     "data": {
      "application/vnd.jupyter.widget-view+json": {
       "model_id": "767dfb0078d44973a5e30d14ea6995a0",
       "version_major": 2,
       "version_minor": 0
      },
      "text/plain": [
       "MetricVisualizer(layout=Layout(align_self='stretch', height='500px'))"
      ]
     },
     "metadata": {},
     "output_type": "display_data"
    },
    {
     "name": "stdout",
     "output_type": "stream",
     "text": [
      "0:\ttest: 0.7024532\ttest1: 0.7080920\tbest: 0.7080920 (0)\ttotal: 171ms\tremaining: 2m 50s\n",
      "400:\ttest: 0.7843553\ttest1: 0.7862527\tbest: 0.7862527 (400)\ttotal: 1m 16s\tremaining: 1m 54s\n",
      "800:\ttest: 0.7950115\ttest1: 0.7937132\tbest: 0.7937132 (800)\ttotal: 2m 32s\tremaining: 37.9s\n",
      "999:\ttest: 0.7985316\ttest1: 0.7956759\tbest: 0.7956759 (999)\ttotal: 3m 11s\tremaining: 0us\n",
      "\n",
      "bestTest = 0.7956759314\n",
      "bestIteration = 999\n",
      "\n",
      "\n",
      "\tFold Number 2\n",
      "\n"
     ]
    },
    {
     "data": {
      "application/vnd.jupyter.widget-view+json": {
       "model_id": "52d279338d9541b49edebc4e6c9d3aac",
       "version_major": 2,
       "version_minor": 0
      },
      "text/plain": [
       "MetricVisualizer(layout=Layout(align_self='stretch', height='500px'))"
      ]
     },
     "metadata": {},
     "output_type": "display_data"
    },
    {
     "name": "stdout",
     "output_type": "stream",
     "text": [
      "0:\ttest: 0.6617842\ttest1: 0.6594850\tbest: 0.6594850 (0)\ttotal: 165ms\tremaining: 2m 44s\n"
     ]
    },
    {
     "ename": "KeyboardInterrupt",
     "evalue": "",
     "output_type": "error",
     "traceback": [
      "\u001b[1;31m---------------------------------------------------------------------------\u001b[0m",
      "\u001b[1;31mKeyboardInterrupt\u001b[0m                         Traceback (most recent call last)",
      "\u001b[1;32m~\\AppData\\Local\\Temp/ipykernel_3940/3697511157.py\u001b[0m in \u001b[0;36m<module>\u001b[1;34m\u001b[0m\n\u001b[0;32m      1\u001b[0m \u001b[0mcb_boosting\u001b[0m \u001b[1;33m=\u001b[0m \u001b[0mcat_boosting\u001b[0m\u001b[1;33m(\u001b[0m\u001b[0mtrain_data\u001b[0m\u001b[1;33m,\u001b[0m \u001b[0mtarget_train\u001b[0m\u001b[1;33m,\u001b[0m \u001b[0mtest_data\u001b[0m\u001b[1;33m,\u001b[0m \u001b[0mparams\u001b[0m\u001b[1;33m,\u001b[0m \u001b[0mrandom_state\u001b[0m \u001b[1;33m=\u001b[0m \u001b[1;36m98\u001b[0m\u001b[1;33m,\u001b[0m \u001b[0msave_model_to_pickle\u001b[0m \u001b[1;33m=\u001b[0m \u001b[1;32mTrue\u001b[0m\u001b[1;33m)\u001b[0m\u001b[1;33m\u001b[0m\u001b[1;33m\u001b[0m\u001b[0m\n\u001b[1;32m----> 2\u001b[1;33m \u001b[0mcb_boosting\u001b[0m\u001b[1;33m.\u001b[0m\u001b[0mtrain\u001b[0m\u001b[1;33m(\u001b[0m\u001b[0mbooster\u001b[0m \u001b[1;33m=\u001b[0m \u001b[1;34m'catboost'\u001b[0m\u001b[1;33m,\u001b[0m \u001b[0mplot_flag\u001b[0m\u001b[1;33m=\u001b[0m\u001b[1;32mTrue\u001b[0m\u001b[1;33m)\u001b[0m\u001b[1;33m\u001b[0m\u001b[1;33m\u001b[0m\u001b[0m\n\u001b[0m",
      "\u001b[1;32m~\\AppData\\Local\\Temp/ipykernel_3940/1208348369.py\u001b[0m in \u001b[0;36mtrain\u001b[1;34m(self, booster, verbose, early_stopping, pickle_name, plot_flag)\u001b[0m\n\u001b[0;32m     99\u001b[0m \u001b[1;33m\u001b[0m\u001b[0m\n\u001b[0;32m    100\u001b[0m \u001b[1;33m\u001b[0m\u001b[0m\n\u001b[1;32m--> 101\u001b[1;33m             clf.fit(x_tr, y_tr, eval_set = [(x_tr, y_tr), (x_cv, y_cv)], \n\u001b[0m\u001b[0;32m    102\u001b[0m                      verbose = verbose, early_stopping_rounds = 200, plot = plot_flag)\n\u001b[0;32m    103\u001b[0m \u001b[1;33m\u001b[0m\u001b[0m\n",
      "\u001b[1;32mD:\\chengxu\\Anaconda\\lib\\site-packages\\catboost\\core.py\u001b[0m in \u001b[0;36mfit\u001b[1;34m(self, X, y, cat_features, text_features, embedding_features, sample_weight, baseline, use_best_model, eval_set, verbose, logging_level, plot, column_description, verbose_eval, metric_period, silent, early_stopping_rounds, save_snapshot, snapshot_file, snapshot_interval, init_model, callbacks, log_cout, log_cerr)\u001b[0m\n\u001b[0;32m   4714\u001b[0m             \u001b[0mCatBoostClassifier\u001b[0m\u001b[1;33m.\u001b[0m\u001b[0m_check_is_compatible_loss\u001b[0m\u001b[1;33m(\u001b[0m\u001b[0mparams\u001b[0m\u001b[1;33m[\u001b[0m\u001b[1;34m'loss_function'\u001b[0m\u001b[1;33m]\u001b[0m\u001b[1;33m)\u001b[0m\u001b[1;33m\u001b[0m\u001b[1;33m\u001b[0m\u001b[0m\n\u001b[0;32m   4715\u001b[0m \u001b[1;33m\u001b[0m\u001b[0m\n\u001b[1;32m-> 4716\u001b[1;33m         self._fit(X, y, cat_features, text_features, embedding_features, None, sample_weight, None, None, None, None, baseline, use_best_model,\n\u001b[0m\u001b[0;32m   4717\u001b[0m                   \u001b[0meval_set\u001b[0m\u001b[1;33m,\u001b[0m \u001b[0mverbose\u001b[0m\u001b[1;33m,\u001b[0m \u001b[0mlogging_level\u001b[0m\u001b[1;33m,\u001b[0m \u001b[0mplot\u001b[0m\u001b[1;33m,\u001b[0m \u001b[0mcolumn_description\u001b[0m\u001b[1;33m,\u001b[0m \u001b[0mverbose_eval\u001b[0m\u001b[1;33m,\u001b[0m \u001b[0mmetric_period\u001b[0m\u001b[1;33m,\u001b[0m\u001b[1;33m\u001b[0m\u001b[1;33m\u001b[0m\u001b[0m\n\u001b[0;32m   4718\u001b[0m                   silent, early_stopping_rounds, save_snapshot, snapshot_file, snapshot_interval, init_model, callbacks, log_cout, log_cerr)\n",
      "\u001b[1;32mD:\\chengxu\\Anaconda\\lib\\site-packages\\catboost\\core.py\u001b[0m in \u001b[0;36m_fit\u001b[1;34m(self, X, y, cat_features, text_features, embedding_features, pairs, sample_weight, group_id, group_weight, subgroup_id, pairs_weight, baseline, use_best_model, eval_set, verbose, logging_level, plot, column_description, verbose_eval, metric_period, silent, early_stopping_rounds, save_snapshot, snapshot_file, snapshot_interval, init_model, callbacks, log_cout, log_cerr)\u001b[0m\n\u001b[0;32m   2035\u001b[0m         \u001b[1;32mwith\u001b[0m \u001b[0mlog_fixup\u001b[0m\u001b[1;33m(\u001b[0m\u001b[0mlog_cout\u001b[0m\u001b[1;33m,\u001b[0m \u001b[0mlog_cerr\u001b[0m\u001b[1;33m)\u001b[0m\u001b[1;33m,\u001b[0m\u001b[0;31m \u001b[0m\u001b[0;31m\\\u001b[0m\u001b[1;33m\u001b[0m\u001b[1;33m\u001b[0m\u001b[0m\n\u001b[0;32m   2036\u001b[0m             \u001b[0mplot_wrapper\u001b[0m\u001b[1;33m(\u001b[0m\u001b[0mplot\u001b[0m\u001b[1;33m,\u001b[0m \u001b[1;33m[\u001b[0m\u001b[0m_get_train_dir\u001b[0m\u001b[1;33m(\u001b[0m\u001b[0mself\u001b[0m\u001b[1;33m.\u001b[0m\u001b[0mget_params\u001b[0m\u001b[1;33m(\u001b[0m\u001b[1;33m)\u001b[0m\u001b[1;33m)\u001b[0m\u001b[1;33m]\u001b[0m\u001b[1;33m)\u001b[0m\u001b[1;33m:\u001b[0m\u001b[1;33m\u001b[0m\u001b[1;33m\u001b[0m\u001b[0m\n\u001b[1;32m-> 2037\u001b[1;33m             self._train(\n\u001b[0m\u001b[0;32m   2038\u001b[0m                 \u001b[0mtrain_pool\u001b[0m\u001b[1;33m,\u001b[0m\u001b[1;33m\u001b[0m\u001b[1;33m\u001b[0m\u001b[0m\n\u001b[0;32m   2039\u001b[0m                 \u001b[0mtrain_params\u001b[0m\u001b[1;33m[\u001b[0m\u001b[1;34m\"eval_sets\"\u001b[0m\u001b[1;33m]\u001b[0m\u001b[1;33m,\u001b[0m\u001b[1;33m\u001b[0m\u001b[1;33m\u001b[0m\u001b[0m\n",
      "\u001b[1;32mD:\\chengxu\\Anaconda\\lib\\site-packages\\catboost\\core.py\u001b[0m in \u001b[0;36m_train\u001b[1;34m(self, train_pool, test_pool, params, allow_clear_pool, init_model)\u001b[0m\n\u001b[0;32m   1462\u001b[0m \u001b[1;33m\u001b[0m\u001b[0m\n\u001b[0;32m   1463\u001b[0m     \u001b[1;32mdef\u001b[0m \u001b[0m_train\u001b[0m\u001b[1;33m(\u001b[0m\u001b[0mself\u001b[0m\u001b[1;33m,\u001b[0m \u001b[0mtrain_pool\u001b[0m\u001b[1;33m,\u001b[0m \u001b[0mtest_pool\u001b[0m\u001b[1;33m,\u001b[0m \u001b[0mparams\u001b[0m\u001b[1;33m,\u001b[0m \u001b[0mallow_clear_pool\u001b[0m\u001b[1;33m,\u001b[0m \u001b[0minit_model\u001b[0m\u001b[1;33m)\u001b[0m\u001b[1;33m:\u001b[0m\u001b[1;33m\u001b[0m\u001b[1;33m\u001b[0m\u001b[0m\n\u001b[1;32m-> 1464\u001b[1;33m         \u001b[0mself\u001b[0m\u001b[1;33m.\u001b[0m\u001b[0m_object\u001b[0m\u001b[1;33m.\u001b[0m\u001b[0m_train\u001b[0m\u001b[1;33m(\u001b[0m\u001b[0mtrain_pool\u001b[0m\u001b[1;33m,\u001b[0m \u001b[0mtest_pool\u001b[0m\u001b[1;33m,\u001b[0m \u001b[0mparams\u001b[0m\u001b[1;33m,\u001b[0m \u001b[0mallow_clear_pool\u001b[0m\u001b[1;33m,\u001b[0m \u001b[0minit_model\u001b[0m\u001b[1;33m.\u001b[0m\u001b[0m_object\u001b[0m \u001b[1;32mif\u001b[0m \u001b[0minit_model\u001b[0m \u001b[1;32melse\u001b[0m \u001b[1;32mNone\u001b[0m\u001b[1;33m)\u001b[0m\u001b[1;33m\u001b[0m\u001b[1;33m\u001b[0m\u001b[0m\n\u001b[0m\u001b[0;32m   1465\u001b[0m         \u001b[0mself\u001b[0m\u001b[1;33m.\u001b[0m\u001b[0m_set_trained_model_attributes\u001b[0m\u001b[1;33m(\u001b[0m\u001b[1;33m)\u001b[0m\u001b[1;33m\u001b[0m\u001b[1;33m\u001b[0m\u001b[0m\n\u001b[0;32m   1466\u001b[0m \u001b[1;33m\u001b[0m\u001b[0m\n",
      "\u001b[1;32m_catboost.pyx\u001b[0m in \u001b[0;36m_catboost._CatBoost._train\u001b[1;34m()\u001b[0m\n",
      "\u001b[1;32m_catboost.pyx\u001b[0m in \u001b[0;36m_catboost._CatBoost._train\u001b[1;34m()\u001b[0m\n",
      "\u001b[1;31mKeyboardInterrupt\u001b[0m: "
     ]
    }
   ],
   "source": [
    "# ###with plot\n",
    "# cb_boosting = cat_boosting(train_data, target_train, test_data, params, random_state = 98, save_model_to_pickle = True)\n",
    "# cb_boosting.train(booster = 'catboost', plot_flag=True)"
   ]
  },
  {
   "cell_type": "code",
   "execution_count": 47,
   "id": "5674e32f-4d90-4b10-9f54-d0297cdfd8bf",
   "metadata": {
    "execution": {
     "iopub.execute_input": "2021-12-22T23:05:39.909006Z",
     "iopub.status.busy": "2021-12-22T23:05:39.909006Z",
     "iopub.status.idle": "2021-12-22T23:05:41.797006Z",
     "shell.execute_reply": "2021-12-22T23:05:41.797006Z",
     "shell.execute_reply.started": "2021-12-22T23:05:39.909006Z"
    }
   },
   "outputs": [
    {
     "name": "stdout",
     "output_type": "stream",
     "text": [
      "====================================================================================================\n",
      "Train Results:\n",
      "\n",
      "The best selected Threshold as per the J-Statistic, which is J = TPR - FPR, is = 0.040586713543595054\n",
      "\n",
      "\tROC-AUC Score = 0.7991647011566586\n",
      "\tPrecision Score = 0.18450191999024768\n",
      "\tRecall Score = 0.7316012084592145\n",
      "CV Results:\n",
      "\tROC-AUC Score = 0.7926123874329822\n",
      "\tPrecision Score = 0.12782234530743966\n",
      "\tRecall Score = 0.8998590130916415\n",
      "====================================================================================================\n",
      "Confusion, Precision and Recall Matrix on CV data:\n"
     ]
    },
    {
     "data": {
      "image/png": "[encoded data removed]",
      "text/plain": [
       "<Figure size 504x432 with 2 Axes>"
      ]
     },
     "metadata": {
      "needs_background": "light"
     },
     "output_type": "display_data"
    },
    {
     "name": "stdout",
     "output_type": "stream",
     "text": [
      "====================================================================================================\n"
     ]
    }
   ],
   "source": [
    "#displaying the results and metrics\n",
    "cb_boosting.results()"
   ]
  },
  {
   "cell_type": "code",
   "execution_count": 48,
   "id": "d539d19b-a795-4115-9ba0-ceff5d5d2ec5",
   "metadata": {
    "execution": {
     "iopub.execute_input": "2021-12-22T23:06:12.578006Z",
     "iopub.status.busy": "2021-12-22T23:06:12.578006Z",
     "iopub.status.idle": "2021-12-22T23:06:13.372005Z",
     "shell.execute_reply": "2021-12-22T23:06:13.372005Z",
     "shell.execute_reply.started": "2021-12-22T23:06:12.578006Z"
    },
    "tags": []
   },
   "outputs": [
    {
     "data": {
      "image/png": "[encoded data removed]",
      "text/plain": [
       "<Figure size 720x1080 with 1 Axes>"
      ]
     },
     "metadata": {
      "needs_background": "light"
     },
     "output_type": "display_data"
    },
    {
     "name": "stdout",
     "output_type": "stream",
     "text": [
      "====================================================================================================\n"
     ]
    }
   ],
   "source": [
    "#displaying top 50 important features\n",
    "cb_boosting.feat_importances_show(50)"
   ]
  },
  {
   "cell_type": "code",
   "execution_count": null,
   "id": "1719cae8-8165-48a6-b7af-b16357720084",
   "metadata": {},
   "outputs": [],
   "source": []
  },
  {
   "cell_type": "markdown",
   "id": "17747bda-25f2-4dd1-9d17-db5fafbdca8f",
   "metadata": {},
   "source": [
    "## Test GPU\n",
    "\n",
    "after some search on the internet, I think `\"atboost_options.cpp:612: Error: rsm on GPU is supported for pairwise modes only\"` is a bug, so stop trying this case on GPU now.\n",
    "\n",
    "colsample_bylevel=0.57 caused the above error."
   ]
  },
  {
   "cell_type": "code",
   "execution_count": 4,
   "id": "480a559b-a72f-4f2d-9e4d-1bf64ac13564",
   "metadata": {
    "execution": {
     "iopub.execute_input": "2021-12-23T04:15:04.433644Z",
     "iopub.status.busy": "2021-12-23T04:15:04.433644Z",
     "iopub.status.idle": "2021-12-23T04:15:04.447708Z",
     "shell.execute_reply": "2021-12-23T04:15:04.447708Z",
     "shell.execute_reply.started": "2021-12-23T04:15:04.433644Z"
    },
    "tags": []
   },
   "outputs": [],
   "source": [
    "params = {\n",
    "    'task_type': 'GPU',\n",
    "    'eval_metric': 'AUC',\n",
    "    'n_estimators' : 10000,\n",
    "    'learning_rate' : 0.01,\n",
    "    'max_depth' : 5,\n",
    "    'min_child_samples' : 80,\n",
    "    'reg_lambda' : 0.03564525547115141,\n",
    "    'random_state' : 42\n",
    "} \n"
   ]
  },
  {
   "cell_type": "code",
   "execution_count": 5,
   "id": "dc308a7c-29c5-4bc3-8835-595056f30853",
   "metadata": {
    "execution": {
     "iopub.execute_input": "2021-12-23T04:15:04.448707Z",
     "iopub.status.busy": "2021-12-23T04:15:04.448707Z",
     "iopub.status.idle": "2021-12-23T04:19:18.895713Z",
     "shell.execute_reply": "2021-12-23T04:19:18.895713Z",
     "shell.execute_reply.started": "2021-12-23T04:15:04.448707Z"
    },
    "tags": []
   },
   "outputs": [
    {
     "data": {
      "application/vnd.jupyter.widget-view+json": {
       "model_id": "c407f59161aa402a88daae6d22f995bf",
       "version_major": 2,
       "version_minor": 0
      },
      "text/plain": [
       "MetricVisualizer(layout=Layout(align_self='stretch', height='500px'))"
      ]
     },
     "metadata": {},
     "output_type": "display_data"
    },
    {
     "name": "stdout",
     "output_type": "stream",
     "text": [
      "0:\tlearn: 0.7374999\ttest: 0.7310336\tbest: 0.7310336 (0)\ttotal: 22.9ms\tremaining: 3m 48s\n",
      "200:\tlearn: 0.7817160\ttest: 0.7773573\tbest: 0.7773573 (200)\ttotal: 4.54s\tremaining: 3m 41s\n",
      "400:\tlearn: 0.7887157\ttest: 0.7838696\tbest: 0.7838696 (400)\ttotal: 9.14s\tremaining: 3m 38s\n",
      "600:\tlearn: 0.7939117\ttest: 0.7880740\tbest: 0.7880766 (599)\ttotal: 13.7s\tremaining: 3m 33s\n",
      "800:\tlearn: 0.7978543\ttest: 0.7907870\tbest: 0.7907870 (800)\ttotal: 18.1s\tremaining: 3m 27s\n",
      "1000:\tlearn: 0.8009584\ttest: 0.7926419\tbest: 0.7926419 (1000)\ttotal: 22.5s\tremaining: 3m 22s\n",
      "1200:\tlearn: 0.8037207\ttest: 0.7940794\tbest: 0.7940794 (1200)\ttotal: 26.8s\tremaining: 3m 16s\n",
      "1400:\tlearn: 0.8061323\ttest: 0.7951041\tbest: 0.7951041 (1400)\ttotal: 31.1s\tremaining: 3m 10s\n",
      "1600:\tlearn: 0.8084491\ttest: 0.7959526\tbest: 0.7959526 (1600)\ttotal: 35.4s\tremaining: 3m 5s\n",
      "1800:\tlearn: 0.8105833\ttest: 0.7967362\tbest: 0.7967362 (1800)\ttotal: 39.6s\tremaining: 3m\n",
      "2000:\tlearn: 0.8126810\ttest: 0.7974127\tbest: 0.7974139 (1999)\ttotal: 44s\tremaining: 2m 55s\n",
      "2200:\tlearn: 0.8146038\ttest: 0.7980471\tbest: 0.7980531 (2198)\ttotal: 48.2s\tremaining: 2m 50s\n",
      "2400:\tlearn: 0.8164590\ttest: 0.7984682\tbest: 0.7984682 (2400)\ttotal: 52.5s\tremaining: 2m 46s\n",
      "2600:\tlearn: 0.8183259\ttest: 0.7989585\tbest: 0.7989585 (2600)\ttotal: 56.9s\tremaining: 2m 41s\n",
      "2800:\tlearn: 0.8200364\ttest: 0.7993358\tbest: 0.7993358 (2800)\ttotal: 1m 1s\tremaining: 2m 37s\n",
      "3000:\tlearn: 0.8217241\ttest: 0.7996735\tbest: 0.7996735 (3000)\ttotal: 1m 5s\tremaining: 2m 32s\n",
      "3200:\tlearn: 0.8234040\ttest: 0.8000225\tbest: 0.8000225 (3200)\ttotal: 1m 9s\tremaining: 2m 28s\n",
      "3400:\tlearn: 0.8250262\ttest: 0.8003858\tbest: 0.8003858 (3400)\ttotal: 1m 14s\tremaining: 2m 23s\n",
      "3600:\tlearn: 0.8265800\ttest: 0.8005926\tbest: 0.8005926 (3600)\ttotal: 1m 18s\tremaining: 2m 19s\n",
      "3800:\tlearn: 0.8281091\ttest: 0.8008294\tbest: 0.8008294 (3800)\ttotal: 1m 22s\tremaining: 2m 15s\n",
      "4000:\tlearn: 0.8296036\ttest: 0.8010159\tbest: 0.8010207 (3996)\ttotal: 1m 27s\tremaining: 2m 10s\n",
      "4200:\tlearn: 0.8311256\ttest: 0.8012400\tbest: 0.8012419 (4192)\ttotal: 1m 31s\tremaining: 2m 6s\n",
      "4400:\tlearn: 0.8326489\ttest: 0.8014340\tbest: 0.8014416 (4396)\ttotal: 1m 35s\tremaining: 2m 1s\n",
      "4600:\tlearn: 0.8340989\ttest: 0.8015530\tbest: 0.8015530 (4600)\ttotal: 1m 39s\tremaining: 1m 57s\n",
      "4800:\tlearn: 0.8354998\ttest: 0.8017441\tbest: 0.8017441 (4800)\ttotal: 1m 44s\tremaining: 1m 52s\n",
      "5000:\tlearn: 0.8368538\ttest: 0.8018479\tbest: 0.8018479 (5000)\ttotal: 1m 48s\tremaining: 1m 48s\n",
      "5200:\tlearn: 0.8382372\ttest: 0.8020435\tbest: 0.8020445 (5199)\ttotal: 1m 52s\tremaining: 1m 44s\n",
      "5400:\tlearn: 0.8395684\ttest: 0.8021475\tbest: 0.8021516 (5397)\ttotal: 1m 57s\tremaining: 1m 39s\n",
      "5600:\tlearn: 0.8408994\ttest: 0.8022850\tbest: 0.8022905 (5591)\ttotal: 2m 1s\tremaining: 1m 35s\n",
      "5800:\tlearn: 0.8421772\ttest: 0.8024126\tbest: 0.8024126 (5800)\ttotal: 2m 5s\tremaining: 1m 30s\n",
      "6000:\tlearn: 0.8434817\ttest: 0.8025286\tbest: 0.8025291 (5999)\ttotal: 2m 9s\tremaining: 1m 26s\n",
      "6200:\tlearn: 0.8447585\ttest: 0.8027006\tbest: 0.8027006 (6200)\ttotal: 2m 14s\tremaining: 1m 22s\n",
      "6400:\tlearn: 0.8459952\ttest: 0.8028811\tbest: 0.8028852 (6395)\ttotal: 2m 18s\tremaining: 1m 17s\n",
      "6600:\tlearn: 0.8472399\ttest: 0.8029411\tbest: 0.8029460 (6594)\ttotal: 2m 23s\tremaining: 1m 13s\n",
      "6800:\tlearn: 0.8484571\ttest: 0.8030522\tbest: 0.8030549 (6796)\ttotal: 2m 27s\tremaining: 1m 9s\n",
      "7000:\tlearn: 0.8496758\ttest: 0.8031340\tbest: 0.8031340 (7000)\ttotal: 2m 31s\tremaining: 1m 4s\n",
      "7200:\tlearn: 0.8509374\ttest: 0.8032559\tbest: 0.8032589 (7197)\ttotal: 2m 35s\tremaining: 1m\n",
      "7400:\tlearn: 0.8521443\ttest: 0.8033272\tbest: 0.8033399 (7338)\ttotal: 2m 40s\tremaining: 56.2s\n",
      "7600:\tlearn: 0.8533517\ttest: 0.8034256\tbest: 0.8034308 (7595)\ttotal: 2m 44s\tremaining: 51.9s\n",
      "7800:\tlearn: 0.8545074\ttest: 0.8034759\tbest: 0.8034791 (7796)\ttotal: 2m 48s\tremaining: 47.6s\n",
      "8000:\tlearn: 0.8556698\ttest: 0.8035376\tbest: 0.8035393 (7957)\ttotal: 2m 52s\tremaining: 43.2s\n",
      "8200:\tlearn: 0.8567753\ttest: 0.8036448\tbest: 0.8036448 (8200)\ttotal: 2m 57s\tremaining: 38.9s\n",
      "8400:\tlearn: 0.8579605\ttest: 0.8037209\tbest: 0.8037322 (8359)\ttotal: 3m 1s\tremaining: 34.6s\n",
      "8600:\tlearn: 0.8590632\ttest: 0.8037639\tbest: 0.8037711 (8578)\ttotal: 3m 6s\tremaining: 30.3s\n",
      "8800:\tlearn: 0.8601359\ttest: 0.8038473\tbest: 0.8038473 (8800)\ttotal: 3m 10s\tremaining: 25.9s\n",
      "9000:\tlearn: 0.8612465\ttest: 0.8038937\tbest: 0.8038946 (8999)\ttotal: 3m 14s\tremaining: 21.6s\n",
      "bestTest = 0.8038989604\n",
      "bestIteration = 9003\n",
      "Shrink model to first 9004 iterations.\n"
     ]
    },
    {
     "data": {
      "text/plain": [
       "<catboost.core.CatBoostClassifier at 0x243642f6910>"
      ]
     },
     "execution_count": 5,
     "metadata": {},
     "output_type": "execute_result"
    }
   ],
   "source": [
    "    \n",
    "X_train, X_validation, y_train, y_validation = train_test_split(train_data, target_train, train_size=0.8, random_state=42)\n",
    "\n",
    "clf_gpu = CatBoostClassifier(**params)\n",
    "\n",
    "clf_gpu.fit(X_train, y_train, eval_set=(X_validation, y_validation), \n",
    "                 verbose_eval = 200, early_stopping_rounds = 100, plot=True)\n",
    "    "
   ]
  },
  {
   "cell_type": "code",
   "execution_count": null,
   "id": "dc390da8-d624-44d4-a933-7961b9718425",
   "metadata": {},
   "outputs": [],
   "source": [
    "clf_gpu.predict_proba(test_data)[:,1]"
   ]
  },
  {
   "cell_type": "code",
   "execution_count": 6,
   "id": "88f3857c-11f4-4bbf-b90f-1872401fde0c",
   "metadata": {
    "execution": {
     "iopub.execute_input": "2021-12-23T02:37:43.450378Z",
     "iopub.status.busy": "2021-12-23T02:37:43.450378Z",
     "iopub.status.idle": "2021-12-23T02:37:49.801975Z",
     "shell.execute_reply": "2021-12-23T02:37:49.801975Z",
     "shell.execute_reply.started": "2021-12-23T02:37:43.450378Z"
    }
   },
   "outputs": [],
   "source": [
    "clf_gpu_model_df = pd.DataFrame({'SK_ID_CURR': skid_test, 'TARGET' : clf_gpu.predict_proba(test_data)[:,1]})\n",
    "clf_gpu_model_df['SK_ID_CURR'] = clf_gpu_model_df['SK_ID_CURR'].astype(int)\n",
    "clf_gpu_model_df.to_csv('./submissions/catboost_gpu_model.csv',index = False)"
   ]
  },
  {
   "cell_type": "markdown",
   "id": "dd1bce7d-f0bc-48c6-aacf-0dcf303cc4e9",
   "metadata": {},
   "source": [
    "|        Model       | Private Score | Public Score |\n",
    "|--------------------|---------------|--------------|\n",
    "| CatBoost_GPU_Model |   0.78860     |   0.79378    |"
   ]
  },
  {
   "cell_type": "markdown",
   "id": "a5e3ba0d-1b0e-43d6-a775-4f5c42cb4987",
   "metadata": {
    "execution": {
     "iopub.execute_input": "2021-12-23T02:41:07.903130Z",
     "iopub.status.busy": "2021-12-23T02:41:07.903130Z",
     "iopub.status.idle": "2021-12-23T02:41:07.942128Z",
     "shell.execute_reply": "2021-12-23T02:41:07.942128Z",
     "shell.execute_reply.started": "2021-12-23T02:41:07.903130Z"
    },
    "tags": []
   },
   "source": [
    "<!-- ![title](images/catboost_gpu_model.png) -->\n",
    "<img src=\"./images/catboost_gpu_model.png\" >"
   ]
  },
  {
   "cell_type": "markdown",
   "id": "b6e8916e-4ad1-49e6-9bed-97a7cbf6a11a",
   "metadata": {},
   "source": [
    "## Grid search\n",
    "\n",
    "unssucced: kernel died"
   ]
  },
  {
   "cell_type": "code",
   "execution_count": null,
   "id": "35abbffa-6b4c-455c-9f5f-3f858748ca50",
   "metadata": {
    "execution": {
     "iopub.execute_input": "2021-12-23T02:21:22.424046Z",
     "iopub.status.busy": "2021-12-23T02:21:22.424046Z"
    },
    "tags": []
   },
   "outputs": [
    {
     "data": {
      "application/vnd.jupyter.widget-view+json": {
       "model_id": "69a11b9de6054d95b2bee5d10927dde8",
       "version_major": 2,
       "version_minor": 0
      },
      "text/plain": [
       "MetricVisualizer(layout=Layout(align_self='stretch', height='500px'))"
      ]
     },
     "metadata": {},
     "output_type": "display_data"
    }
   ],
   "source": [
    "    \n",
    "X_train, X_validation, y_train, y_validation = train_test_split(train_data, target_train, train_size=0.8, random_state=42)\n",
    "\n",
    "clf_gpu = CatBoostClassifier(task_type='GPU', eval_metric='AUC', n_estimators=10000, random_state=42)\n",
    "\n",
    "grid_params = {'n_estimators': [2000, 40000, 6000, 8000, 10000],\n",
    "            'learning_rate': list(np.arange(0.01, 0.1, 0.01)),\n",
    "            'max_depth': list(range(15,25)),\n",
    "            'min_child_samples': list(range(5,80)),\n",
    "            'reg_lambda': list(np.arange(0.1, 0.31, 0.1))}\n",
    "\n",
    "grid_search_result = clf_gpu.grid_search(grid_params, X=X_train, y=y_train, plot=True)\n",
    "\n",
    "# randm = RandomizedSearchCV(estimator=clf_gpu, param_distributions = grid_params, \n",
    "#                                cv = 5, n_iter = 10, n_jobs=2, verbose=True)\n",
    "# randm.fit(train_data, target_train)"
   ]
  },
  {
   "cell_type": "markdown",
   "id": "64a4d06f-259f-434a-ac4d-7192228687f7",
   "metadata": {},
   "source": [
    "## Hyperparameter tuning on GPU\n",
    "\n",
    "unssucced: kernel died"
   ]
  },
  {
   "cell_type": "code",
   "execution_count": 6,
   "id": "28f630d4-22fb-4799-b3a4-ad34f4ce7b26",
   "metadata": {
    "execution": {
     "iopub.execute_input": "2021-12-23T01:43:11.161579Z",
     "iopub.status.busy": "2021-12-23T01:43:11.160579Z",
     "iopub.status.idle": "2021-12-23T01:43:11.176711Z",
     "shell.execute_reply": "2021-12-23T01:43:11.176711Z",
     "shell.execute_reply.started": "2021-12-23T01:43:11.161579Z"
    },
    "tags": []
   },
   "outputs": [],
   "source": [
    "def cbc_evaluation(learning_rate, max_depth, min_child_samples, reg_lambda):\n",
    "    '''\n",
    "    Objective function for Bayesian Optimization of CatBoost's Hyperparamters. Takes the hyperparameters as input, and\n",
    "    returns the Cross-Validation AUC as output.\n",
    "    \n",
    "    Inputs: Hyperparamters to be tuned.\n",
    "        learning_rate, max_depth, min_child_samples, reg_lambda\n",
    "        \n",
    "    Returns:\n",
    "        CV ROC-AUC Score\n",
    "    '''  \n",
    "    params = {\n",
    "        'task_type': 'GPU',\n",
    "        'eval_metric': 'AUC',\n",
    "        'n_estimators' : 10000,\n",
    "        'learning_rate' : learning_rate,\n",
    "        'max_depth' : int(round(max_depth)),\n",
    "        'min_child_samples' : int(round(min_child_samples)),\n",
    "        'reg_lambda' : reg_lambda,\n",
    "        'random_state' : 42\n",
    "    }\n",
    "    \n",
    "    #defining the Cross-Validation Strategry\n",
    "    stratified_cv = StratifiedKFold(n_splits = 3, shuffle = True, random_state = 33)\n",
    "    cv_preds = np.zeros(train_data.shape[0])\n",
    "    \n",
    "    #iterating over each fold, training the model, and making Out of Fold Predictions\n",
    "    for train_indices, cv_indices in stratified_cv.split(train_data, target_train):\n",
    "        \n",
    "        x_tr = train_data.iloc[train_indices]\n",
    "        y_tr = target_train.iloc[train_indices]\n",
    "        x_cv = train_data.iloc[cv_indices]\n",
    "        y_cv = target_train.iloc[cv_indices]\n",
    "        \n",
    "        cbc = CatBoostClassifier(**params)\n",
    "        cbc.fit(x_tr, y_tr, eval_set= (x_cv,y_cv), verbose = False, early_stopping_rounds = 200)\n",
    "        \n",
    "        cv_preds[cv_indices] = cbc.predict_proba(x_cv)[:,1]\n",
    "        gc.collect()   \n",
    "        \n",
    "    return roc_auc_score(target_train, cv_preds)"
   ]
  },
  {
   "cell_type": "code",
   "execution_count": null,
   "id": "e3619c09-10f7-4a96-80b4-a26a63c10453",
   "metadata": {
    "execution": {
     "iopub.execute_input": "2021-12-23T01:43:11.388759Z",
     "iopub.status.busy": "2021-12-23T01:43:11.388759Z"
    },
    "tags": []
   },
   "outputs": [
    {
     "name": "stdout",
     "output_type": "stream",
     "text": [
      "|   iter    |  target   | learni... | max_depth | min_ch... | reg_la... |\n",
      "-------------------------------------------------------------------------\n"
     ]
    }
   ],
   "source": [
    "#defining the optimizer and the hyperparameters along with ranges of values.\n",
    "bopt_cbc =  BayesianOptimization(cbc_evaluation, {\n",
    "                                                  'learning_rate': (0.01, 0.1),\n",
    "                                                  'max_depth' : (5,15),\n",
    "                                                  'min_child_samples' : (5,80),\n",
    "                                                  'reg_lambda' : (0.001, 0.3)}, \n",
    "                                 random_state = 55)\n",
    "\n",
    "bopt_cbc.maximize(n_iter = 6, init_points = 4) #cost time: \n",
    "\n",
    "#the package has bug: kernel died when start tuning"
   ]
  },
  {
   "cell_type": "code",
   "execution_count": null,
   "id": "851b433c-ecb1-415e-af54-27365a8668bd",
   "metadata": {},
   "outputs": [],
   "source": []
  }
 ],
 "metadata": {
  "kernelspec": {
   "display_name": "Python 3 (ipykernel)",
   "language": "python",
   "name": "python3"
  },
  "language_info": {
   "codemirror_mode": {
    "name": "ipython",
    "version": 3
   },
   "file_extension": ".py",
   "mimetype": "text/x-python",
   "name": "python",
   "nbconvert_exporter": "python",
   "pygments_lexer": "ipython3",
   "version": "3.9.7"
  }
 },
 "nbformat": 4,
 "nbformat_minor": 5
}
